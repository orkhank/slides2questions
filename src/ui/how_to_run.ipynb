{
 "cells": [
  {
   "cell_type": "markdown",
   "metadata": {},
   "source": [
    "## 1- Venv Olustur"
   ]
  },
  {
   "cell_type": "markdown",
   "metadata": {},
   "source": [
    ">python -m venv venv_name"
   ]
  },
  {
   "cell_type": "markdown",
   "metadata": {},
   "source": [
    "## 2- Requirementsleri indir "
   ]
  },
  {
   "cell_type": "markdown",
   "metadata": {},
   "source": [
    ">pip install -r requirements.txt"
   ]
  },
  {
   "cell_type": "markdown",
   "metadata": {},
   "source": [
    "## 3- Projeyi Calistir"
   ]
  },
  {
   "cell_type": "markdown",
   "metadata": {},
   "source": [
    ">python ./run.py"
   ]
  },
  {
   "cell_type": "markdown",
   "metadata": {},
   "source": [
    "## Proje dahilinde degisiklikler yapmak gerekirse"
   ]
  },
  {
   "cell_type": "markdown",
   "metadata": {},
   "source": [
    "Pyqt5 Designer ile (yoksa indirilmeli) projenin ana sayfasindaki buton veya diger elemanlari degistirebilirsiniz. Degisimleri yaptiktan sonra asagidaki komutu terminalden calistirarak tum degisikliklerin py dosyasina yansimasini ve program calistiginda da yeni tasarladiginiz pencerenin gozukmesini saglayabilirsiniz. "
   ]
  },
  {
   "cell_type": "markdown",
   "metadata": {},
   "source": [
    ">python -m PyQt5.uic.pyuic -x .\\ui_files\\main_page.ui  -o .\\py_ui_files\\main_window.py"
   ]
  },
  {
   "cell_type": "markdown",
   "metadata": {},
   "source": [
    "### Proje Yapisinin genel tanimi"
   ]
  },
  {
   "cell_type": "markdown",
   "metadata": {},
   "source": [
    "> Projede .ui dosyalari var, bu dosaylar html koduna benzer kodlar iceriyor bu kodlar ile tasarim yapilabiliryor. PyQt designer sayesinde sayfa tasarlayip bu dosyalari olusturuyoruz. \n",
    "\n",
    "> Olusan html benzeri dosyalari python dosyalarina cevirip ara yuzumuzu tasarlamis oluyoruz. Direk bu python dosyasi da olusturulabilir ama surukle birak ile tasarim varken kim koda yazarak tasarim yapmak ister. HTML den python uretmek icin \"python -m PyQt5.uic.pyuic -x .\\ui_files\\main_page.ui  -o .\\py_ui_files\\main_window.py\" komutu kullanilir\n",
    "\n",
    "> Projenin ara yuzunde tekrar tekrar yapilan degisikliklerde otomatik olan python dosyasini tekrar tekrar olusturmamiz gerekecegi icin bu dosya icine kod yazilmaz cunku dosya en bastan olusturuldugunda icindeki bizim kodlarimiz silinir. Dolayisiyla \"controller\" icinde ui sayfalarini yoneten birer controller ekleyerek ui islemlerini (butona tiklandi vs) bu dosya icinden yonetiyoruz."
   ]
  },
  {
   "cell_type": "markdown",
   "metadata": {},
   "source": [
    "## Utilities Dosayasi"
   ]
  },
  {
   "cell_type": "markdown",
   "metadata": {},
   "source": [
    ">Utilities dosyasi icinde gerekli olan utility fonksiyonlari (dosya okuma vs) yer almaktadir"
   ]
  },
  {
   "cell_type": "markdown",
   "metadata": {},
   "source": []
  }
 ],
 "metadata": {
  "language_info": {
   "name": "python"
  }
 },
 "nbformat": 4,
 "nbformat_minor": 2
}
